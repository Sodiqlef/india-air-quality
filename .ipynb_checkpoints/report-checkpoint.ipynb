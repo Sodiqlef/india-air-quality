{
 "cells": [
  {
   "cell_type": "code",
   "execution_count": 1,
   "id": "f38b8a92",
   "metadata": {},
   "outputs": [
    {
     "name": "stdout",
     "output_type": "stream",
     "text": [
      "                  baseline  train\n",
      "LinearRegression     25.18   5.10\n",
      "AutoRegression       25.34   4.36\n"
     ]
    }
   ],
   "source": [
    "import pandas as pd\n",
    "\n",
    "# Using LinearRegression Model, the mean absolute error are as follows (lag 1)\n",
    "lr_baseline = round(25.17927308782788,2)\n",
    "lr_train = round(5.103044019552854,2)\n",
    "lr_test = round(3.516527657954878,2)\n",
    "\n",
    "\n",
    "# Using AutoRegression Model, the mean absolute error are as follows (lag 26)\n",
    "ar_baseline = round(25.338010670663973,2)\n",
    "ar_train = round(4.356588174707222,2)\n",
    "ar_test = round(3.351138752023845,2)\n",
    "\n",
    "\n",
    "# Using ARIMA Model, the mean absolute error are as follows (lag 26)\n",
    "arima_baseline = round(25.50956271788279,2)\n",
    "arima_train = round(4.21600635463509,2)\n",
    "arima_test = round(3.377729482577614,2)\n",
    "\n",
    "\n",
    "df_dict = {\n",
    "    \"baseline\":[lr_baseline, ar_baseline ],\n",
    "    \"train\":[lr_train, ar_train]\n",
    "}\n",
    "\n",
    "print(pd.DataFrame(df_dict, index=[\"LinearRegression\", \"AutoRegression\"]))\n",
    "\n",
    "\n"
   ]
  },
  {
   "cell_type": "code",
   "execution_count": null,
   "id": "36c2d2d0",
   "metadata": {},
   "outputs": [],
   "source": []
  }
 ],
 "metadata": {
  "kernelspec": {
   "display_name": "Python 3",
   "language": "python",
   "name": "python3"
  },
  "language_info": {
   "codemirror_mode": {
    "name": "ipython",
    "version": 3
   },
   "file_extension": ".py",
   "mimetype": "text/x-python",
   "name": "python",
   "nbconvert_exporter": "python",
   "pygments_lexer": "ipython3",
   "version": "3.8.8"
  }
 },
 "nbformat": 4,
 "nbformat_minor": 5
}
