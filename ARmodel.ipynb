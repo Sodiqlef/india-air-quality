{
 "cells": [
  {
   "cell_type": "code",
   "execution_count": 31,
   "id": "b22adb3e",
   "metadata": {},
   "outputs": [],
   "source": [
    "import pprint\n",
    "\n",
    "import pandas as pd\n",
    "import seaborn as sns\n",
    "from matplotlib import pyplot as plt\n",
    "from pymongo import MongoClient\n",
    "\n",
    "from sklearn.metrics import mean_absolute_error as mae\n",
    "from statsmodels.graphics.tsaplots import plot_acf, plot_pacf\n",
    "from statsmodels.tsa.ar_model import AutoReg"
   ]
  },
  {
   "cell_type": "code",
   "execution_count": 32,
   "id": "fe50593a",
   "metadata": {},
   "outputs": [],
   "source": [
    "client = MongoClient(host=\"localhost\", port=27017)\n",
    "db = client[\"air-quality\"]\n",
    "col = db[\"india\"]"
   ]
  },
  {
   "cell_type": "code",
   "execution_count": 33,
   "id": "aeb288f6",
   "metadata": {},
   "outputs": [
    {
     "data": {
      "text/plain": [
       "{'_id': ObjectId('67f54f743fc4bf1cdcc605cf'),\n",
       " 'City': 'Ahmedabad',\n",
       " 'Datetime': '1/1/2015 1:00',\n",
       " 'PM2': '',\n",
       " 'PM10': '',\n",
       " 'NO': '1',\n",
       " 'NO2': '40.01',\n",
       " 'NOx': '36.37',\n",
       " 'NH3': '',\n",
       " 'CO': '1',\n",
       " 'SO2': '122.07',\n",
       " 'O3': '',\n",
       " 'Benzene': '0',\n",
       " 'Toluene': '0',\n",
       " 'Xylene': '0',\n",
       " 'AQI': '',\n",
       " 'AQI_Bucket': ''}"
      ]
     },
     "execution_count": 33,
     "metadata": {},
     "output_type": "execute_result"
    }
   ],
   "source": [
    "col.find_one()"
   ]
  },
  {
   "cell_type": "code",
   "execution_count": 34,
   "id": "6d28b592",
   "metadata": {},
   "outputs": [],
   "source": [
    "def wrangle(collection):\n",
    "    results = collection.find({\n",
    "        \"City\": \"Mumbai\"\n",
    "    }, projection = {\n",
    "        \"Datetime\": 1, \"PM2\": 1, \"_id\": 0\n",
    "    })\n",
    "    \n",
    "    df = pd.DataFrame(results).set_index(\"Datetime\")\n",
    "    \n",
    "    # Filter to only data from 2020\n",
    "    df.index = pd.to_datetime(df.index)\n",
    "    df = df[~df.index.year.isin(range(2015, 2020))]\n",
    "    \n",
    "    # Filter to Mumbai tz\n",
    "    df.index = df.index.tz_localize(\"UTC\").tz_convert(\"Asia/Kolkata\")\n",
    "    \n",
    "    # Convert PM2 to floating point number\n",
    "    df[\"PM2\"] = df[\"PM2\"].astype(float)\n",
    "    \n",
    "    # Remove outliers\n",
    "    df = df[df[\"PM2\"] < 140]\n",
    "    \n",
    "    # Drop all null values\n",
    "    df.dropna(inplace=True)\n",
    "    \n",
    "\n",
    "    return df"
   ]
  },
  {
   "cell_type": "code",
   "execution_count": 35,
   "id": "3976e367",
   "metadata": {},
   "outputs": [
    {
     "data": {
      "text/html": [
       "<div>\n",
       "<style scoped>\n",
       "    .dataframe tbody tr th:only-of-type {\n",
       "        vertical-align: middle;\n",
       "    }\n",
       "\n",
       "    .dataframe tbody tr th {\n",
       "        vertical-align: top;\n",
       "    }\n",
       "\n",
       "    .dataframe thead th {\n",
       "        text-align: right;\n",
       "    }\n",
       "</style>\n",
       "<table border=\"1\" class=\"dataframe\">\n",
       "  <thead>\n",
       "    <tr style=\"text-align: right;\">\n",
       "      <th></th>\n",
       "      <th>PM2</th>\n",
       "    </tr>\n",
       "    <tr>\n",
       "      <th>Datetime</th>\n",
       "      <th></th>\n",
       "    </tr>\n",
       "  </thead>\n",
       "  <tbody>\n",
       "    <tr>\n",
       "      <th>2020-01-01 05:30:00+05:30</th>\n",
       "      <td>80.90</td>\n",
       "    </tr>\n",
       "    <tr>\n",
       "      <th>2020-01-01 06:30:00+05:30</th>\n",
       "      <td>88.78</td>\n",
       "    </tr>\n",
       "    <tr>\n",
       "      <th>2020-01-01 07:30:00+05:30</th>\n",
       "      <td>117.02</td>\n",
       "    </tr>\n",
       "    <tr>\n",
       "      <th>2020-01-01 08:30:00+05:30</th>\n",
       "      <td>127.49</td>\n",
       "    </tr>\n",
       "    <tr>\n",
       "      <th>2020-01-01 09:30:00+05:30</th>\n",
       "      <td>131.77</td>\n",
       "    </tr>\n",
       "  </tbody>\n",
       "</table>\n",
       "</div>"
      ],
      "text/plain": [
       "                              PM2\n",
       "Datetime                         \n",
       "2020-01-01 05:30:00+05:30   80.90\n",
       "2020-01-01 06:30:00+05:30   88.78\n",
       "2020-01-01 07:30:00+05:30  117.02\n",
       "2020-01-01 08:30:00+05:30  127.49\n",
       "2020-01-01 09:30:00+05:30  131.77"
      ]
     },
     "execution_count": 35,
     "metadata": {},
     "output_type": "execute_result"
    }
   ],
   "source": [
    "df = wrangle(col)\n",
    "df.head()"
   ]
  },
  {
   "cell_type": "code",
   "execution_count": 100,
   "id": "634675fb",
   "metadata": {},
   "outputs": [
    {
     "data": {
      "text/plain": [
       "Datetime\n",
       "2020-01-01 05:00:00+05:30     80.90\n",
       "2020-01-01 06:00:00+05:30     88.78\n",
       "2020-01-01 07:00:00+05:30    117.02\n",
       "2020-01-01 08:00:00+05:30    127.49\n",
       "2020-01-01 09:00:00+05:30    131.77\n",
       "Freq: H, Name: PM2, dtype: float64"
      ]
     },
     "execution_count": 100,
     "metadata": {},
     "output_type": "execute_result"
    }
   ],
   "source": [
    "y = df[\"PM2\"].resample(\"1H\").mean().fillna(method=\"ffill\")\n",
    "y.head()"
   ]
  },
  {
   "cell_type": "code",
   "execution_count": 101,
   "id": "f22194b6",
   "metadata": {},
   "outputs": [
    {
     "data": {
      "text/plain": [
       "0.7940007645263903"
      ]
     },
     "execution_count": 101,
     "metadata": {},
     "output_type": "execute_result"
    }
   ],
   "source": [
    "y.corr(y.shift(6))"
   ]
  },
  {
   "cell_type": "code",
   "execution_count": 102,
   "id": "58641d06",
   "metadata": {},
   "outputs": [
    {
     "data": {
      "image/png": "[encoded data removed]",
      "text/plain": [
       "<Figure size 1080x432 with 1 Axes>"
      ]
     },
     "metadata": {
      "needs_background": "light"
     },
     "output_type": "display_data"
    }
   ],
   "source": [
    "# plot Autocorrelation function graph\n",
    "fig, ax = plt.subplots(figsize=(15, 6))\n",
    "plot_acf(y, ax=ax)\n",
    "plt.xlabel(\"Lag [hours]\")\n",
    "plt.ylabel(\"Correlation Coefficient\");"
   ]
  },
  {
   "cell_type": "code",
   "execution_count": 103,
   "id": "2d0fc742",
   "metadata": {},
   "outputs": [
    {
     "data": {
      "image/png": "[encoded data removed]",
      "text/plain": [
       "<Figure size 1080x432 with 1 Axes>"
      ]
     },
     "metadata": {
      "needs_background": "light"
     },
     "output_type": "display_data"
    }
   ],
   "source": [
    "# plot Autocorrelation function graph\n",
    "fig, ax = plt.subplots(figsize=(15, 6))\n",
    "plot_pacf(y, ax=ax)\n",
    "plt.xlabel(\"Lag [hours]\")\n",
    "plt.ylabel(\"Correlation Coefficient\");"
   ]
  },
  {
   "cell_type": "code",
   "execution_count": 104,
   "id": "7b51819e",
   "metadata": {},
   "outputs": [],
   "source": [
    "# train test split\n",
    "cutoff = int(len(y) * 0.8)\n",
    "y_train = y[:cutoff]\n",
    "y_test = y[cutoff:]"
   ]
  },
  {
   "cell_type": "code",
   "execution_count": 105,
   "id": "8bde21d7",
   "metadata": {},
   "outputs": [
    {
     "data": {
      "text/plain": [
       "25.338010670663973"
      ]
     },
     "execution_count": 105,
     "metadata": {},
     "output_type": "execute_result"
    }
   ],
   "source": [
    "# calculate baseline mae\n",
    "y_mean = y_train.mean()\n",
    "y_pred_baseline = [y_mean] * len(y_train)\n",
    "baseline_mae = mae(y_train, y_pred_baseline)\n",
    "baseline_mae"
   ]
  },
  {
   "cell_type": "code",
   "execution_count": 115,
   "id": "f2c185bf",
   "metadata": {},
   "outputs": [
    {
     "name": "stderr",
     "output_type": "stream",
     "text": [
      "C:\\Users\\DELL\\anaconda3\\lib\\site-packages\\statsmodels\\tsa\\ar_model.py:248: FutureWarning: The parameter names will change after 0.12 is released. Set old_names to False to use the new names now. Set old_names to True to use the old names. \n",
      "  warnings.warn(\n"
     ]
    }
   ],
   "source": [
    "model = AutoReg(y_train, lags=26).fit()"
   ]
  },
  {
   "cell_type": "code",
   "execution_count": 116,
   "id": "8204c06a",
   "metadata": {},
   "outputs": [],
   "source": [
    "#make prediction using the walk forward validation model\n",
    "y_pred_train = model.predict().dropna()"
   ]
  },
  {
   "cell_type": "code",
   "execution_count": 118,
   "id": "1dc06d6b",
   "metadata": {},
   "outputs": [
    {
     "data": {
      "text/plain": [
       "4.356588174707222"
      ]
     },
     "execution_count": 118,
     "metadata": {},
     "output_type": "execute_result"
    }
   ],
   "source": [
    "#Calculate training mean absolute error\n",
    "training_mae = mae(y_train[26:], y_pred_train)\n",
    "training_mae"
   ]
  },
  {
   "cell_type": "code",
   "execution_count": 63,
   "id": "77d0e86b",
   "metadata": {},
   "outputs": [],
   "source": [
    "# Predict with test data"
   ]
  },
  {
   "cell_type": "code",
   "execution_count": 64,
   "id": "7092db70",
   "metadata": {},
   "outputs": [
    {
     "data": {
      "text/plain": [
       "Datetime\n",
       "2020-01-02 09:30:00+05:30   NaN\n",
       "2020-01-02 10:30:00+05:30   NaN\n",
       "2020-01-02 11:30:00+05:30   NaN\n",
       "2020-01-02 12:30:00+05:30   NaN\n",
       "2020-01-02 13:30:00+05:30   NaN\n",
       "                             ..\n",
       "2020-04-06 21:30:00+05:30   NaN\n",
       "2020-04-06 22:30:00+05:30   NaN\n",
       "2020-04-06 23:30:00+05:30   NaN\n",
       "2020-04-07 00:30:00+05:30   NaN\n",
       "2020-04-07 01:30:00+05:30   NaN\n",
       "Length: 2292, dtype: float64"
      ]
     },
     "execution_count": 64,
     "metadata": {},
     "output_type": "execute_result"
    }
   ],
   "source": []
  },
  {
   "cell_type": "code",
   "execution_count": 68,
   "id": "a1e0e29e",
   "metadata": {},
   "outputs": [
    {
     "name": "stdout",
     "output_type": "stream",
     "text": [
      "<class 'pandas.core.frame.DataFrame'>\n",
      "DatetimeIndex: 2898 entries, 2020-01-01 05:30:00+05:30 to 2020-05-01 05:30:00+05:30\n",
      "Data columns (total 1 columns):\n",
      " #   Column  Non-Null Count  Dtype  \n",
      "---  ------  --------------  -----  \n",
      " 0   PM2     2898 non-null   float64\n",
      "dtypes: float64(1)\n",
      "memory usage: 45.3 KB\n"
     ]
    }
   ],
   "source": []
  },
  {
   "cell_type": "code",
   "execution_count": 73,
   "id": "dc7ac305",
   "metadata": {},
   "outputs": [
    {
     "data": {
      "text/html": [
       "<table class=\"simpletable\">\n",
       "<caption>AutoReg Model Results</caption>\n",
       "<tr>\n",
       "  <th>Dep. Variable:</th>        <td>PM2</td>       <th>  No. Observations:  </th>   <td>2318</td>   \n",
       "</tr>\n",
       "<tr>\n",
       "  <th>Model:</th>            <td>AutoReg(1)</td>    <th>  Log Likelihood     </th> <td>-7840.740</td>\n",
       "</tr>\n",
       "<tr>\n",
       "  <th>Method:</th>         <td>Conditional MLE</td> <th>  S.D. of innovations</th>   <td>7.135</td>  \n",
       "</tr>\n",
       "<tr>\n",
       "  <th>Date:</th>          <td>Sat, 12 Apr 2025</td> <th>  AIC                </th>   <td>3.933</td>  \n",
       "</tr>\n",
       "<tr>\n",
       "  <th>Time:</th>              <td>19:07:30</td>     <th>  BIC                </th>   <td>3.940</td>  \n",
       "</tr>\n",
       "<tr>\n",
       "  <th>Sample:</th>                <td>1</td>        <th>  HQIC               </th>   <td>3.935</td>  \n",
       "</tr>\n",
       "<tr>\n",
       "  <th></th>                     <td>2318</td>       <th>                     </th>     <td> </td>    \n",
       "</tr>\n",
       "</table>\n",
       "<table class=\"simpletable\">\n",
       "<tr>\n",
       "      <td></td>         <th>coef</th>     <th>std err</th>      <th>z</th>      <th>P>|z|</th>  <th>[0.025</th>    <th>0.975]</th>  \n",
       "</tr>\n",
       "<tr>\n",
       "  <th>intercept</th> <td>    1.5497</td> <td>    0.310</td> <td>    4.992</td> <td> 0.000</td> <td>    0.941</td> <td>    2.158</td>\n",
       "</tr>\n",
       "<tr>\n",
       "  <th>PM2.L1</th>    <td>    0.9713</td> <td>    0.005</td> <td>  196.004</td> <td> 0.000</td> <td>    0.962</td> <td>    0.981</td>\n",
       "</tr>\n",
       "</table>\n",
       "<table class=\"simpletable\">\n",
       "<caption>Roots</caption>\n",
       "<tr>\n",
       "    <td></td>   <th>            Real</th>  <th>         Imaginary</th> <th>         Modulus</th>  <th>        Frequency</th>\n",
       "</tr>\n",
       "<tr>\n",
       "  <th>AR.1</th> <td>           1.0295</td> <td>          +0.0000j</td> <td>           1.0295</td> <td>           0.0000</td>\n",
       "</tr>\n",
       "</table>"
      ],
      "text/plain": [
       "<class 'statsmodels.iolib.summary.Summary'>\n",
       "\"\"\"\n",
       "                            AutoReg Model Results                             \n",
       "==============================================================================\n",
       "Dep. Variable:                    PM2   No. Observations:                 2318\n",
       "Model:                     AutoReg(1)   Log Likelihood               -7840.740\n",
       "Method:               Conditional MLE   S.D. of innovations              7.135\n",
       "Date:                Sat, 12 Apr 2025   AIC                              3.933\n",
       "Time:                        19:07:30   BIC                              3.940\n",
       "Sample:                             1   HQIC                             3.935\n",
       "                                 2318                                         \n",
       "==============================================================================\n",
       "                 coef    std err          z      P>|z|      [0.025      0.975]\n",
       "------------------------------------------------------------------------------\n",
       "intercept      1.5497      0.310      4.992      0.000       0.941       2.158\n",
       "PM2.L1         0.9713      0.005    196.004      0.000       0.962       0.981\n",
       "                                    Roots                                    \n",
       "=============================================================================\n",
       "                  Real          Imaginary           Modulus         Frequency\n",
       "-----------------------------------------------------------------------------\n",
       "AR.1            1.0295           +0.0000j            1.0295            0.0000\n",
       "-----------------------------------------------------------------------------\n",
       "\"\"\""
      ]
     },
     "execution_count": 73,
     "metadata": {},
     "output_type": "execute_result"
    }
   ],
   "source": [
    "model.summary()"
   ]
  },
  {
   "cell_type": "code",
   "execution_count": null,
   "id": "d7865adf",
   "metadata": {},
   "outputs": [],
   "source": []
  }
 ],
 "metadata": {
  "kernelspec": {
   "display_name": "Python 3",
   "language": "python",
   "name": "python3"
  },
  "language_info": {
   "codemirror_mode": {
    "name": "ipython",
    "version": 3
   },
   "file_extension": ".py",
   "mimetype": "text/x-python",
   "name": "python",
   "nbconvert_exporter": "python",
   "pygments_lexer": "ipython3",
   "version": "3.8.8"
  }
 },
 "nbformat": 4,
 "nbformat_minor": 5
}
