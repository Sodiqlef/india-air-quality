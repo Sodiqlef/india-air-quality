{
 "cells": [
  {
   "cell_type": "code",
   "execution_count": 5,
   "id": "443de043",
   "metadata": {},
   "outputs": [],
   "source": [
    "import pandas as pd"
   ]
  },
  {
   "cell_type": "code",
   "execution_count": 6,
   "id": "66cfa8a5",
   "metadata": {},
   "outputs": [],
   "source": [
    "# Using LinearRegression Model, the mean absolute error are as follows (lag 1)\n",
    "lr_baseline = round(25.17927308782788,2)\n",
    "lr_train = round(5.103044019552854,2)\n",
    "lr_test = round(3.516527657954878,2)\n"
   ]
  },
  {
   "cell_type": "code",
   "execution_count": 7,
   "id": "71e72a14",
   "metadata": {},
   "outputs": [],
   "source": [
    "# Using AutoRegression Model, the mean absolute error are as follows (lag 26)\n",
    "ar_baseline = round(25.338010670663973,2)\n",
    "ar_train = round(4.356588174707222,2)\n",
    "ar_test = round(3.351138752023845,2)"
   ]
  },
  {
   "cell_type": "code",
   "execution_count": 8,
   "id": "c7b9d1e9",
   "metadata": {},
   "outputs": [],
   "source": [
    "# Using ARIMA Model, the mean absolute error are as follows (lag 26)\n",
    "arima_baseline = round(25.50956271788279,2)\n",
    "arima_train = round(4.21600635463509,2)\n",
    "arima_test = round(3.377729482577614,2)"
   ]
  },
  {
   "cell_type": "code",
   "execution_count": 9,
   "id": "c75f379a",
   "metadata": {},
   "outputs": [],
   "source": [
    "df_dict = {\n",
    "    \"baseline\":[lr_baseline, ar_baseline, arima_baseline ],\n",
    "    \"train\":[lr_train, ar_train, arima_train],\n",
    "    \"tra\":[lr_train, ar_train, arima_train]\n",
    "}"
   ]
  },
  {
   "cell_type": "code",
   "execution_count": 11,
   "id": "40002c1d",
   "metadata": {},
   "outputs": [
    {
     "data": {
      "text/html": [
       "<div>\n",
       "<style scoped>\n",
       "    .dataframe tbody tr th:only-of-type {\n",
       "        vertical-align: middle;\n",
       "    }\n",
       "\n",
       "    .dataframe tbody tr th {\n",
       "        vertical-align: top;\n",
       "    }\n",
       "\n",
       "    .dataframe thead th {\n",
       "        text-align: right;\n",
       "    }\n",
       "</style>\n",
       "<table border=\"1\" class=\"dataframe\">\n",
       "  <thead>\n",
       "    <tr style=\"text-align: right;\">\n",
       "      <th></th>\n",
       "      <th>baseline</th>\n",
       "      <th>train</th>\n",
       "    </tr>\n",
       "  </thead>\n",
       "  <tbody>\n",
       "    <tr>\n",
       "      <th>LinearRegression</th>\n",
       "      <td>25.18</td>\n",
       "      <td>5.10</td>\n",
       "    </tr>\n",
       "    <tr>\n",
       "      <th>AutoRegression</th>\n",
       "      <td>25.34</td>\n",
       "      <td>4.36</td>\n",
       "    </tr>\n",
       "    <tr>\n",
       "      <th>Arima</th>\n",
       "      <td>25.51</td>\n",
       "      <td>4.22</td>\n",
       "    </tr>\n",
       "  </tbody>\n",
       "</table>\n",
       "</div>"
      ],
      "text/plain": [
       "                  baseline  train\n",
       "LinearRegression     25.18   5.10\n",
       "AutoRegression       25.34   4.36\n",
       "Arima                25.51   4.22"
      ]
     },
     "execution_count": 11,
     "metadata": {},
     "output_type": "execute_result"
    }
   ],
   "source": [
    "pd.DataFrame(df_dict, index=[\"LinearRegression\", \"AutoRegression\", \"Arima\"])"
   ]
  },
  {
   "cell_type": "code",
   "execution_count": null,
   "id": "590e5563",
   "metadata": {},
   "outputs": [],
   "source": []
  }
 ],
 "metadata": {
  "kernelspec": {
   "display_name": "Python 3",
   "language": "python",
   "name": "python3"
  },
  "language_info": {
   "codemirror_mode": {
    "name": "ipython",
    "version": 3
   },
   "file_extension": ".py",
   "mimetype": "text/x-python",
   "name": "python",
   "nbconvert_exporter": "python",
   "pygments_lexer": "ipython3",
   "version": "3.8.8"
  }
 },
 "nbformat": 4,
 "nbformat_minor": 5
}
